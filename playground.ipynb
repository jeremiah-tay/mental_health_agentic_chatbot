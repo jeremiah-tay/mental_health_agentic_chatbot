{
 "cells": [
  {
   "cell_type": "code",
   "execution_count": 13,
   "id": "4856763b",
   "metadata": {},
   "outputs": [
    {
     "data": {
      "text/plain": [
       "True"
      ]
     },
     "execution_count": 13,
     "metadata": {},
     "output_type": "execute_result"
    }
   ],
   "source": [
    "from dotenv import load_dotenv\n",
    "load_dotenv()"
   ]
  },
  {
   "cell_type": "code",
   "execution_count": 16,
   "id": "15b3ac88",
   "metadata": {},
   "outputs": [],
   "source": [
    "from supabase import create_client, Client\n",
    "import os \n",
    "import psycopg2\n",
    "\n",
    "############# SUPABASE Creation #########\n",
    "db_url = os.getenv('DATABASE_URL')\n",
    "conn = psycopg2.connect(db_url)\n",
    "\n",
    "cur = conn.cursor()\n",
    "query = '''\n",
    "        INSERT INTO test1 (\n",
    "            id, name,age\n",
    "        ) VALUES (1, 'Johnathan', 29);\n",
    "'''\n",
    "\n",
    "cur.execute(query)\n",
    "\n",
    "conn.commit()\n",
    "cur.close()\n",
    "conn.close()    \n"
   ]
  }
 ],
 "metadata": {
  "kernelspec": {
   "display_name": "chatbot_project",
   "language": "python",
   "name": "python3"
  },
  "language_info": {
   "codemirror_mode": {
    "name": "ipython",
    "version": 3
   },
   "file_extension": ".py",
   "mimetype": "text/x-python",
   "name": "python",
   "nbconvert_exporter": "python",
   "pygments_lexer": "ipython3",
   "version": "3.12.2"
  }
 },
 "nbformat": 4,
 "nbformat_minor": 5
}
